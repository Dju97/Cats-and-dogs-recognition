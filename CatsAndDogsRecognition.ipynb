{
  "nbformat": 4,
  "nbformat_minor": 0,
  "metadata": {
    "colab": {
      "name": "CatsAndDogsRecognition.ipynb",
      "version": "0.3.2",
      "provenance": [],
      "toc_visible": true,
      "include_colab_link": true
    },
    "kernelspec": {
      "display_name": "Python 3",
      "language": "python",
      "name": "python3"
    }
  },
  "cells": [
    {
      "cell_type": "markdown",
      "metadata": {
        "id": "view-in-github",
        "colab_type": "text"
      },
      "source": [
        "<a href=\"https://colab.research.google.com/github/Dju97/Cats-and-dogs-recognition/blob/master/CatsAndDogsRecognition.ipynb\" target=\"_parent\"><img src=\"https://colab.research.google.com/assets/colab-badge.svg\" alt=\"Open In Colab\"/></a>"
      ]
    },
    {
      "metadata": {
        "id": "pLXuRLsUf2if",
        "colab_type": "text"
      },
      "cell_type": "markdown",
      "source": [
        "# Recognizing dogs and cats\n",
        "\n",
        "The purpose of this project is to build a first end to end reflex-based AI model to teach computers to [**understand images**](https://www.ted.com/talks/fei_fei_li_how_we_re_teaching_computers_to_understand_pictures).\n",
        "\n",
        "In particular, the objective of this project is to write an AI application able to recognize cats and dogs on images. My application take an image as input and is able to say wheter the image contains a dog or a cat. I worked with the data of the [**Dogs vs Cats**](https://www.kaggle.com/c/dogs-vs-cats) competition from Kaggle. This competition was launched in 2013 and the first place was obtained by [Pierre Sermanet](https://research.google.com/pubs/PierreSermanet.html), actually Research Scientist at Google Brain, by using the [Overfeat](http://cilvr.nyu.edu/doku.php?id=software:overfeat:start#overfeatobject_recognizer_feature_extractor) deep learning library he wrote during his PhD at New York University under the supervision of [Yann Le Cun](http://yann.lecun.com/), Director of AI Research at Facebook. He obtained $1.09%$ of classification errors.\n",
        "\n",
        "Two approaches has been used to adress this problem :\n",
        "1. A traditional pattern recognition model in which hand-crafted features are extracted from images and used to represent them and to train classifiers. This was just for testing since I know it's less performing than CNN, thus I haven't past much time to optimize these methods.\n",
        "2. A modern representation learning approach in which deep convolutional neural networks (CNN) are used to learn the image representations.\n",
        "\n",
        "    "
      ]
    },
    {
      "metadata": {
        "collapsed": true,
        "id": "dH8ReFJ_f2ii",
        "colab_type": "text"
      },
      "cell_type": "markdown",
      "source": [
        "## Part 0 : Requirements\n",
        "A set of packages will be useful to handle the first part of this study case.\n",
        "\n",
        "    pip3 install -r requirements.txt"
      ]
    },
    {
      "metadata": {
        "id": "kGUgwllWf2ii",
        "colab_type": "text"
      },
      "cell_type": "markdown",
      "source": [
        "## Part 1 : A small introduction to image classification\n",
        "\n",
        "In this section, I introduced the image classification problem which consists in assigning to an input image one label from a fixed set of labels and which is one of the big challenge of computer vision and artifial intelligence. In our case, we will only consider two labels $\\{dog, cat\\}$. This small part also aims at familiarizing me with computer vision librairies that I used in this course :\n",
        "+ OpenCV : [http://opencv.org/](http://opencv.org/) or Scikit-image ([http://scikit-image.org/](http://scikit-image.org/)\n",
        "\n",
        "\n",
        "\n",
        "\n",
        "\n",
        "\n",
        "\n",
        "\n"
      ]
    },
    {
      "metadata": {
        "id": "Ga8pb6A0f2ik",
        "colab_type": "text"
      },
      "cell_type": "markdown",
      "source": [
        "### A simple image classification pipeline\n",
        "\n",
        "To built my image classification algorithm, I have followed the principle of a machine learning approach for image classification which consists in :\n",
        "1. Collecting and preparing a dataset of images and their corresponding labels.\n",
        "2. Using a machine learning algorithm to train a classifier.\n",
        "3. Evaluate the classifier on new images.\n"
      ]
    },
    {
      "metadata": {
        "id": "nefStzrDf2ik",
        "colab_type": "text"
      },
      "cell_type": "markdown",
      "source": [
        "#### Having a look on the available data\n",
        "\n",
        "First, I've have downloaded the dataset that has been used to train and test my model. You'll find the dataset in the data folder.This dataset contains 25,000 labelled dog and cat photos available for training, and 12,500 in the test set that we have to try to label for the Kaggle competition.\n",
        "\n",
        "As usual, the standard practice in machine learning is to split the available data into three different subsets :\n",
        "+ The **training set** : to learn the model.\n",
        "+ The **validation set** : to fine-tune the parameters of the model\n",
        "+ The **testing set** : to evaluate the learned model.\n",
        "\n",
        "In our case, the preparation of the data has been done and that the test and train sets are in separate subdirectories in which data for each category (cats and dogs) is also into subdirectories. Nevertheless, there is no validation set and I then had to build one myself.\n",
        "\n",
        "The archive also contains a directory named sampleDeep I've generated taking random pictures from the training data set. Since training and validating the entire dataset can take some time, it is a good practice to run algorithm on a small sample of your training and validation data before to run it on the entire set of data.\n"
      ]
    },
    {
      "metadata": {
        "id": "erWWgHKOf2il",
        "colab_type": "text"
      },
      "cell_type": "markdown",
      "source": [
        "##### Image representation\n",
        "\n",
        "I first wanted to try methods without using deep learning and using older algorithms. I then tried task to built a representation of the data, i.e. a feature vector which values quantify the contents of the image. I then searched documentation on what could be meaningful. Here, I just represented the images by two alternative representations to compare them.\n",
        "+ A first representation is built using the raw data by simply resizing an input image to a fixed size (here $32 \\times 32$ pixels)and then by flattening the RBG pixel intensities into a single vectors of numbers.\n",
        "+ A second representation is built from the color histogram that characterizes the color distribution of the image. For this representation a color conversion into the HSV color space could be useful.\n",
        "    "
      ]
    },
    {
      "metadata": {
        "id": "wuJwlVt2f2im",
        "colab_type": "code",
        "colab": {}
      },
      "cell_type": "code",
      "source": [
        "import numpy as np\n",
        "from skimage import data,transform,io,color\n",
        "import pandas as pd\n",
        "\n",
        "def image_to_feature_vector(image, size=(32, 32)):\n",
        "    # resize the image to a fixed size, then flatten the image into a list of raw pixel intensities\n",
        "    res  = transform.resize(image,size)\n",
        "    res = res.flatten()\n",
        "    return list(res)\n",
        "\n",
        "\n",
        "def build_HSV_color_histogram_vector(image,bins=(8, 8, 8)):\n",
        "    # extract a 3D color histogram from the HSV color space using the supplied number of `bins` per channel and return it as a feature vector\n",
        "    res = color.convert_colorspace(image,'RGB','HSV')\n",
        "    results = []\n",
        "    for i,bin1 in enumerate(bins):\n",
        "        results.extend(np.histogram(res[:,:,i],bin1)[0])\n",
        "    return results"
      ],
      "execution_count": 0,
      "outputs": []
    },
    {
      "metadata": {
        "id": "S9l8YQRSf2ir",
        "colab_type": "text"
      },
      "cell_type": "markdown",
      "source": [
        "#### Dataset prepatation and feature extraction\n",
        "The dataset has to be prepared for feature extraction :\n",
        "+ Three lists will be initialized to store the raw pixel representation, the color distribution (histogram) representation and the class labels themselves.\n",
        "+ Then, the lists will be completed by extracted the features from the dataset (don't forgot to begin by testing your program on the sample dataset before to apply it on the whole dataset).\n",
        "\n",
        "For this step, we can used the paths.py file [here](https://github.com/jrosebr1/imutils/blob/master/imutils/paths.py) from imutils\n",
        "\n",
        "\n"
      ]
    },
    {
      "metadata": {
        "id": "EAhDgS76f2is",
        "colab_type": "code",
        "outputId": "79ecb959-1e15-44ce-f591-74a5fb33f1f6",
        "colab": {
          "base_uri": "https://localhost:8080/",
          "height": 88
        }
      },
      "cell_type": "code",
      "source": [
        "from imutils import paths\n",
        "from random import shuffle\n",
        "print(\"Describing images...\")\n",
        "imagePaths = list(paths.list_images('./sampleDeep/train'))\n",
        "shuffle(imagePaths)\n",
        "\n",
        "# initialize the raw pixel intensities matrix, the features matrix and labels list\n",
        "rawImages_features = []\n",
        "histogram_features = []\n",
        "labels = []\n",
        "# we take only 200 images to test our representations\n",
        "for imagePath in imagePaths[:300]:\n",
        "    rawImages_features.append(image_to_feature_vector(io.imread(imagePath)))\n",
        "    histogram_features.append(build_HSV_color_histogram_vector(io.imread(imagePath)))\n",
        "    if 'cats' in imagePath:\n",
        "        labels.append(0)\n",
        "    else:\n",
        "        labels.append(1)\n",
        "    "
      ],
      "execution_count": 0,
      "outputs": [
        {
          "output_type": "stream",
          "text": [
            "Describing images...\n"
          ],
          "name": "stdout"
        },
        {
          "output_type": "stream",
          "text": [
            "/usr/local/lib/python3.6/dist-packages/skimage/transform/_warps.py:84: UserWarning: The default mode, 'constant', will be changed to 'reflect' in skimage 0.15.\n",
            "  warn(\"The default mode, 'constant', will be changed to 'reflect' in \"\n"
          ],
          "name": "stderr"
        }
      ]
    },
    {
      "metadata": {
        "id": "oYttmSJMf2iw",
        "colab_type": "text"
      },
      "cell_type": "markdown",
      "source": [
        "#### Dataset splitting into training and validation dataset\n",
        "\n",
        "The last step will be to split the training dataset into training dataset and validation dataset."
      ]
    },
    {
      "metadata": {
        "id": "qzQgn0CTf2ix",
        "colab_type": "code",
        "colab": {}
      },
      "cell_type": "code",
      "source": [
        "from sklearn.model_selection import train_test_split\n",
        "# TO COMPLETE\n",
        "Raw_train,Raw_test,Hist_train,Hist_test,y_train,y_test =  train_test_split(rawImages_features,histogram_features,labels)\n"
      ],
      "execution_count": 0,
      "outputs": []
    },
    {
      "metadata": {
        "id": "O2cYbDYrf2i1",
        "colab_type": "text"
      },
      "cell_type": "markdown",
      "source": [
        "#### Classification using the K-Nearest Neighbor (KNN) classifier\n",
        "\n",
        "\n",
        "In order to build this simple image classification pipeline, I tried using the k-Nearest Neighbor (KNN) classifier which is a very simple machine learning/image classification approach, even if it's rarely used in practice, its simplicity has enabled me to get quickly an idea of the image classification pipeline. I then firstly tried to build a very simple model, without tuning hyper parameters and using the euclidian metric for simplicity :\n",
        "\n",
        "$d(p,q)=\\sqrt{\\sum_{i=1}^{N}(q_i-p_i)^2}$\n"
      ]
    },
    {
      "metadata": {
        "id": "JS3zg_PGf2i2",
        "colab_type": "code",
        "outputId": "5928e07e-2278-48fb-a390-dec84cc77fb9",
        "colab": {
          "base_uri": "https://localhost:8080/",
          "height": 85
        }
      },
      "cell_type": "code",
      "source": [
        "from sklearn.neighbors import KNeighborsClassifier\n",
        "\n",
        "# training and evaluation of a k-NN classifer on the raw pixel representation\n",
        "neigh = KNeighborsClassifier(n_neighbors = 10)\n",
        "neigh.fit(Raw_train,y_train)\n",
        "print(\"Raw pixel representation accuracy:\")\n",
        "print(neigh.score(Raw_train,y_train))\n",
        "# training and evaluation of  a k-NN classifer on the color histogram representation\n",
        "neigh = KNeighborsClassifier(n_neighbors = 10)\n",
        "neigh.fit(Hist_train,y_train)\n",
        "print(\"Color histogram representation accuracy:\")\n",
        "print(neigh.score(Hist_train,y_train))\n"
      ],
      "execution_count": 0,
      "outputs": [
        {
          "output_type": "stream",
          "text": [
            "Raw pixel representation accuracy:\n",
            "0.5911111111111111\n",
            "Color histogram representation accuracy:\n",
            "0.64\n"
          ],
          "name": "stdout"
        }
      ]
    },
    {
      "metadata": {
        "id": "EvbaSFjzf2i6",
        "colab_type": "text"
      },
      "cell_type": "markdown",
      "source": [
        "**I then obtained the following scores without tuning hyperparameters**\n",
        "\n",
        "1.   For raw data representation : 0.59\n",
        "2.   For historigram : 0.64\n",
        "\n",
        "These results are a little better than random prediction, and are quite good since the simplicity of the data representations and the model.\n",
        "\n",
        "\n"
      ]
    },
    {
      "metadata": {
        "id": "sD56tfP3f2jA",
        "colab_type": "text"
      },
      "cell_type": "markdown",
      "source": [
        "#### Cross-validation\n",
        "\n",
        "I've used cross-validation to hypertune parameters, in particularly the number of neighbors optimal, searching in a range from 1 to 29."
      ]
    },
    {
      "metadata": {
        "id": "jh9SbBHLf2jB",
        "colab_type": "code",
        "outputId": "92d49958-8682-4b3c-f73c-8d366697a989",
        "colab": {
          "base_uri": "https://localhost:8080/",
          "height": 807
        }
      },
      "cell_type": "code",
      "source": [
        "from sklearn.model_selection import cross_val_score\n",
        "import matplotlib.pyplot as plt\n",
        "\n",
        "\n",
        "# creating odd list of K for KNN\n",
        "params = {\"n_neighbors\": np.arange(1, 29, 2)}\n",
        "\n",
        "# empty list that will hold cv scores\n",
        "cv_scores = []\n",
        "\n",
        "# perform 10-fold cross validation on the KNN classifier with raw features\n",
        "print(\" 10-fold cross validation on the KNN classifier with raw features\")\n",
        "for k in params[\"n_neighbors\"]:\n",
        "    neigh = KNeighborsClassifier(n_neighbors=k)\n",
        "    cv_scores.append(np.mean(cross_val_score(neigh,Raw_train,y_train,cv=10)))\n",
        "\n",
        "print(\"Plotting the misclassification error versus k\")\n",
        "# changing to misclassification error\n",
        "MSE = [1 - x for x in cv_scores]\n",
        "\n",
        "\n",
        "# determining best k\n",
        "optimal_k =0\n",
        "for k,result in enumerate(cv_scores):\n",
        "    if result > cv_scores[optimal_k]:\n",
        "        optimal_k = k\n",
        "        \n",
        "print(\"The optimal number of neighbors is %d\" % optimal_k)\n",
        "\n",
        "# plot misclassification error vs k\n",
        "plt.plot(params[\"n_neighbors\"], MSE)\n",
        "plt.xlabel('Number of Neighbors K')\n",
        "plt.ylabel('Misclassification Error')\n",
        "plt.show()\n",
        "\n",
        "\n",
        "\n",
        "# empty list that will hold cv scores\n",
        "cv_scores = []\n",
        "\n",
        "# perform 10-fold cross validation on the KNN classifier with raw features\n",
        "print(\" 10-fold cross validation on the KNN classifier with hist features\")\n",
        "\n",
        "for k in params[\"n_neighbors\"]:\n",
        "    neigh = KNeighborsClassifier(n_neighbors=k)\n",
        "    cv_scores.append(np.mean(cross_val_score(neigh,Hist_train,y_train,cv=10)))\n",
        "    \n",
        "print(\"Plotting the misclassification error versus k\")\n",
        "    \n",
        "# changing to misclassification error\n",
        "MSE = [1 - x for x in cv_scores]\n",
        "\n",
        "# determining best k\n",
        "optimal_k =0\n",
        "for k,result in enumerate(cv_scores):\n",
        "    if result > cv_scores[optimal_k]:\n",
        "        optimal_k = k\n",
        "\n",
        "# plot misclassification error vs k\n",
        "plt.plot(params[\"n_neighbors\"], MSE)\n",
        "plt.xlabel('Number of Neighbors K')\n",
        "plt.ylabel('Misclassification Error')\n",
        "plt.show()\n",
        "\n",
        "print(\"The optimal number of neighbors is %d\" % optimal_k)\n",
        "\n",
        "\n",
        "\n",
        "\n"
      ],
      "execution_count": 0,
      "outputs": [
        {
          "output_type": "stream",
          "text": [
            " 10-fold cross validation on the KNN classifier with raw features\n",
            "Plotting the misclassification error versus k\n",
            "The optimal number of neighbors is 5\n"
          ],
          "name": "stdout"
        },
        {
          "output_type": "display_data",
          "data": {
            "image/png": "[encoded data removed]",
            "text/plain": [
              "<Figure size 576x396 with 1 Axes>"
            ]
          },
          "metadata": {
            "tags": []
          }
        },
        {
          "output_type": "stream",
          "text": [
            " 10-fold cross validation on the KNN classifier with hist features\n",
            "Plotting the misclassification error versus k\n"
          ],
          "name": "stdout"
        },
        {
          "output_type": "display_data",
          "data": {
            "image/png": "[encoded data removed]",
            "text/plain": [
              "<Figure size 576x396 with 1 Axes>"
            ]
          },
          "metadata": {
            "tags": []
          }
        },
        {
          "output_type": "stream",
          "text": [
            "The optimal number of neighbors is 4\n"
          ],
          "name": "stdout"
        }
      ]
    },
    {
      "metadata": {
        "id": "oJ1zrUtAf2jG",
        "colab_type": "text"
      },
      "cell_type": "markdown",
      "source": [
        "#### Summary of Part 1\n",
        "\n",
        "We note that final score is not really better than hazard, and I then decided not to spend to much time on this method, since it's based on a very naive representation and should be impossible to improve\n",
        "\n"
      ]
    },
    {
      "metadata": {
        "collapsed": true,
        "id": "oGRAcoxzf2jG",
        "colab_type": "text"
      },
      "cell_type": "markdown",
      "source": [
        "## Part 2 : using Hand-crafted features\n",
        "\n",
        "In this part, I've also followed the traditional image recognition approach but I tried to improve my image representation by using better features than the raw representation and the color distribution. Indeed, raw pixel data is hard to use for machine learning and for comparing images in general due to the different challenges explained before.\n",
        "As a consequence, the computer vision community had studied and proposed a wide range of robust and discriminative features such as HOG (Histogram of Oriented Gradients), SIFT (Scale-Invariant Feature Transform) or SURF(Speeded Up Robust Features) among others. These features are often refered as **hand-crafted features**.\n",
        "\n",
        "\n",
        "I've used the discriminative bag of visual words (BoVW) approach to represent the content of the target images.  Bag of visual words (BoVW) is a popular technique for image classification inspired by models used in natural language processing and texture recognition. BoVW downplays word arrangement (spatial information in the image) and classifies based on an histogram of the frequency of visual words in image content. The set of visual words forms a visual vocabulary, which is constructed by clustering a large corpus of features. A first step will thus consist in building a visual vocabulary by clustering a large set of local features (I've chosen to use DENSE SIFT) extracted from our training image corpus.\n",
        "\n",
        "I found this link very interesting to explain the BoVW approach : [mathwoks](https://fr.mathworks.com/help/vision/ug/image-classification-with-bag-of-visual-words.html?requestedDomain=www.mathworks.com)\n",
        "\n",
        "Then, the typical BoVW pipeline for representing an image consists in :\n",
        "1. extracting the local features from the image,\n",
        "2. encoding the local features to the corresponding visual words\n",
        "3. performing spatial pooling.\n",
        "\n",
        "Then, all the images of my training set are described with the BoVW representation and I then trained a SVM to categorize image from the representation. I firstly described only 500 image with 100 words.\n",
        "\n",
        "### Visual Vocabulary Building"
      ]
    },
    {
      "metadata": {
        "id": "ltKB7G2Tf2jH",
        "colab_type": "code",
        "outputId": "8b1a8b2c-9cc4-4448-c7a9-e40e34fc2245",
        "colab": {
          "base_uri": "https://localhost:8080/",
          "height": 68
        }
      },
      "cell_type": "code",
      "source": [
        "import cv2\n",
        "import imutils \n",
        "import numpy as np\n",
        "import os\n",
        "from imutils.paths import *\n",
        "from skimage import data,transform,io,color\n",
        "from sklearn.cluster import KMeans\n",
        "from random import shuffle\n",
        "\n",
        "# Here I extracted SIFT features on all images of the training set and made a k-means clustering to build the visual vocabulary.\n",
        "\n",
        "# Get all the path to the images and save them in a list\n",
        "# image_paths and the corresponding label in image_classes\n",
        "image_paths = []\n",
        "image_classes = []\n",
        "print('Importing images')\n",
        "imagePaths = list(list_images('./sampleDeep/train'))\n",
        "shuffle(imagePaths)\n",
        "imagePaths = imagePaths[:500]\n",
        "        \n",
        "print('SIFT')\n",
        "# Create feature extraction and keypoint detector objects using opencv\n",
        "sift = cv2.ORB_create()\n",
        "\n",
        "des_list = []\n",
        "\n",
        "for indice,i in enumerate(imagePaths):\n",
        "    image = cv2.imread(i)\n",
        "    des_list.extend(sift.detectAndCompute(image,None)[1])\n",
        "    \n",
        "print(\"K-means\")\n",
        "# Perform k-means clustering\n",
        "k = 100\n",
        "# TO COMPLETE \n",
        "kmeans = KMeans(n_clusters=k).fit(des_list)\n"
      ],
      "execution_count": 0,
      "outputs": [
        {
          "output_type": "stream",
          "text": [
            "Importing images\n",
            "SIFT\n",
            "K-means\n"
          ],
          "name": "stdout"
        }
      ]
    },
    {
      "metadata": {
        "id": "fSdA8KMYuG27",
        "colab_type": "text"
      },
      "cell_type": "markdown",
      "source": [
        "I then had to create the vector of labels corresponding to the images selected randomly."
      ]
    },
    {
      "metadata": {
        "id": "XQ2wwjS9f2jL",
        "colab_type": "code",
        "colab": {}
      },
      "cell_type": "code",
      "source": [
        "image_classes = []\n",
        "for image in imagePaths:\n",
        "    if 'cats' in image:\n",
        "        image_classes.append(1)\n",
        "    else:\n",
        "        image_classes.append(0)\n",
        "        "
      ],
      "execution_count": 0,
      "outputs": []
    },
    {
      "metadata": {
        "id": "JiVWajQgf2jP",
        "colab_type": "text"
      },
      "cell_type": "markdown",
      "source": [
        "### BoVW pipeline \n",
        "Here I've written the BoVW pipeline and applied it to each image."
      ]
    },
    {
      "metadata": {
        "id": "9YbLPs23f2jQ",
        "colab_type": "code",
        "colab": {}
      },
      "cell_type": "code",
      "source": [
        "def build_histogram(descriptor,kmeans):\n",
        "    labels = kmeans.predict(descriptor)\n",
        "    return np.histogram(labels,bins=k)[0]\n"
      ],
      "execution_count": 0,
      "outputs": []
    },
    {
      "metadata": {
        "id": "fDBJA84vf2jT",
        "colab_type": "code",
        "colab": {}
      },
      "cell_type": "code",
      "source": [
        "preprocessed_images = []\n",
        "label = []\n",
        "for i in imagePaths:\n",
        "    image = cv2.imread(i)\n",
        "    descriptor = sift.detectAndCompute(image,None)[1]\n",
        "    if descriptor is not None:\n",
        "        histogram = build_histogram(descriptor,kmeans)\n",
        "        preprocessed_images.append(list(histogram))\n"
      ],
      "execution_count": 0,
      "outputs": []
    },
    {
      "metadata": {
        "id": "qo6a1pfef2jV",
        "colab_type": "text"
      },
      "cell_type": "markdown",
      "source": [
        "### Classification using the BoVW representation and linear SVMs\n",
        "\n",
        "Now, I trained a linear SVM using BoVW representation"
      ]
    },
    {
      "metadata": {
        "id": "N752jEszf2jb",
        "colab_type": "code",
        "outputId": "d9f0dc4a-8906-471d-f182-e5a2d8d1d4e9",
        "colab": {
          "base_uri": "https://localhost:8080/",
          "height": 139
        }
      },
      "cell_type": "code",
      "source": [
        "from sklearn import svm\n",
        "from sklearn.model_selection import train_test_split\n",
        "from sklearn.model_selection import cross_val_score\n",
        "from sklearn.model_selection import GridSearchCV\n",
        "# I've decided to tune the params kernel, C and gamma which are very significant for a SVM\n",
        "params = {'kernel':['linear','poly','rbf','sigmoid'],'C':[0.1,1,10,100],'gamma':['auto','scale']}\n",
        "\n",
        "X_train,X_test,y_train,y_test = train_test_split(np.array(preprocessed_images),image_classes,random_state=42)\n",
        "svc = svm.SVC()\n",
        "clf = GridSearchCV(svc,params)\n",
        "clf = clf.fit(X_train,y_train)\n",
        "print(clf.best_params_)\n",
        "print(clf.score(X_test,y_test))"
      ],
      "execution_count": 0,
      "outputs": [
        {
          "output_type": "stream",
          "text": [
            "/usr/local/lib/python3.6/dist-packages/sklearn/model_selection/_split.py:2053: FutureWarning: You should specify a value for 'cv' instead of relying on the default value. The default value will change from 3 to 5 in version 0.22.\n",
            "  warnings.warn(CV_WARNING, FutureWarning)\n"
          ],
          "name": "stderr"
        },
        {
          "output_type": "stream",
          "text": [
            "{'C': 0.1, 'gamma': 'scale', 'kernel': 'poly'}\n",
            "0.64\n"
          ],
          "name": "stdout"
        },
        {
          "output_type": "stream",
          "text": [
            "/usr/local/lib/python3.6/dist-packages/sklearn/model_selection/_search.py:841: DeprecationWarning: The default of the `iid` parameter will change from True to False in version 0.22 and will be removed in 0.24. This will change numeric results when test-set sizes are unequal.\n",
            "  DeprecationWarning)\n"
          ],
          "name": "stderr"
        }
      ]
    },
    {
      "metadata": {
        "id": "2bgff6Dq19d_",
        "colab_type": "text"
      },
      "cell_type": "markdown",
      "source": [
        "According to the Grid search CV, the best parameters found are : C=0.1, gamma = 'scale' and a polynomial kernel. We will then use these parameters and it gave us a score of **0.64**, which is better than the previous score. \n",
        "This score can surely be improved, tuning more the model, testing other models, training our models on the entire dataset and using more visual words. \n",
        "But since these tasks are quite time demanding, I prefered focus on Deep Learning and CNN."
      ]
    },
    {
      "metadata": {
        "id": "23kodqcnf2jf",
        "colab_type": "text"
      },
      "cell_type": "markdown",
      "source": [
        "## Part 3 : using Convolutional Neural Networks\n",
        "\n",
        "In this part, I've used convolutional neural networks (CNNs) and deep learning in order to build your image classifier. I've used the [Keras framework](https://keras.io/) which is a high-level neural networks API, written in Python and capable of running on top of [TensorFlow](https://www.tensorflow.org/). It was developed with a focus on enabling fast experimentation and as a consequence it is a good choice for this course.\n",
        "\n",
        "\n",
        "### Keras with sample data from the Dogs and cats recognition challenge\n",
        "\n",
        "In this part, I have used Keras in order to\n",
        " + Build and train a small network from scratch\n",
        " + Use the bottleneck features of a pre-trained network\n",
        " + Fine-tune the top layers of a pre-trained network\n",
        "\n",
        "I have done this work on a sample Dataset (folder sample Deep) of the initial Kaggle challenge that contains a training set composed of 1000 images of cats and 1000 images of dogs and a validation set, used to evaluate our models that contains 400 additional samples from each class.\n",
        "\n",
        "At the end, I could apply this approach on the whole dataset but this require other computing resources than my computer.\n",
        "\n"
      ]
    },
    {
      "metadata": {
        "id": "p7D0VvMtf2jg",
        "colab_type": "text"
      },
      "cell_type": "markdown",
      "source": [
        "#### Data preparation and loading\n",
        "\n",
        "As for the previous classifiers, data preparation is also required when working with convolutional neural networks and deep learning models. You will use the [*ImageDataGenerator class*](https://keras.io/preprocessing/image/) that defines the configuration for image data preparation. This class allows us to make data augmentation as we will see later, which is often necessary in Deep Learning\n",
        " This is the case of the sampleDeep dataset.  I chose the batch size testing multiple ones and choosing the one with the best efficiency.\n",
        " "
      ]
    },
    {
      "metadata": {
        "id": "bV9hDAQYf2jh",
        "colab_type": "code",
        "outputId": "f6157f80-c4d5-4e8a-dadb-69f0071b7d09",
        "colab": {
          "base_uri": "https://localhost:8080/",
          "height": 51
        }
      },
      "cell_type": "code",
      "source": [
        "# without augmentation, only rescaling\n",
        "\n",
        "from keras.preprocessing.image import ImageDataGenerator\n",
        "\n",
        "# definition of the number of samples propagated through the network at each step\n",
        "batch_size = 8\n",
        "\n",
        "# dimensions of our images.\n",
        "img_width, img_height = 150, 150\n",
        "\n",
        "train_data_dir = 'sampleDeep/train'\n",
        "validation_data_dir = 'sampleDeep/valid'\n",
        "\n",
        "# create and configure an ImageDataGenerator for the training data with only rescaling to 0..1\n",
        "train_datagen =  ImageDataGenerator(rescale=1./255)\n",
        "\n",
        "train_generator = train_datagen.flow_from_directory(\n",
        "        train_data_dir,  # the target directory\n",
        "        target_size=(img_width, img_height),  # all images will be resized to 150x150\n",
        "        batch_size=batch_size,\n",
        "        class_mode='binary')\n",
        "\n",
        "# create and configure an ImageDataGenerator for the validation data with only rescaling to 0..1\n",
        "test_datagen =  ImageDataGenerator(rescale=1./255)\n",
        "\n",
        "valid_generator = test_datagen.flow_from_directory(\n",
        "        validation_data_dir,  # the target directory\n",
        "        target_size=(img_width, img_height),  # all images will be resized to 150x150\n",
        "        batch_size=batch_size,\n",
        "        class_mode='binary') \n",
        "\n"
      ],
      "execution_count": 0,
      "outputs": [
        {
          "output_type": "stream",
          "text": [
            "Found 2010 images belonging to 2 classes.\n",
            "Found 800 images belonging to 2 classes.\n"
          ],
          "name": "stdout"
        }
      ]
    },
    {
      "metadata": {
        "id": "q2MsKdHpf2jm",
        "colab_type": "text"
      },
      "cell_type": "markdown",
      "source": [
        "## Build a model from scratch\n",
        "\n",
        "### Training our first model\n",
        "\n",
        "Here, I have built a convolutional neural network which is ,by design, one of the best models available for most \"perceptual\" problems (such as image classification), even with very little data to learn from.\n",
        "My first network model consists in 2 convolutional layers followed by a fully-connected layer. As loss and metrics, I used binary crossentropy and accuracy which are the most adapted to binary classification. As optimizer, we tried multiple ones such as adam, sgd and rmsprop and rmsprop was found as the more efficient for this project.\n",
        "\n",
        "This model was really slow to train, I then added Max Pooling layers to fasten the training.\n",
        "\n",
        "\n",
        "\n",
        "\n",
        "\n"
      ]
    },
    {
      "metadata": {
        "id": "LZ9G97Bef2jn",
        "colab_type": "code",
        "outputId": "70885ba2-f804-4afe-a9b4-a2c8bf13ff6e",
        "colab": {
          "base_uri": "https://localhost:8080/",
          "height": 156
        }
      },
      "cell_type": "code",
      "source": [
        "from keras.models import Sequential\n",
        "from keras.layers import Conv2D, MaxPooling2D\n",
        "from keras.layers import Activation, Dropout, Flatten, Dense\n",
        "\n",
        "model = Sequential()\n",
        "\n",
        "# First convolutional layer\n",
        "\n",
        "model.add(Conv2D(filters=64,input_shape=(150,150,3),kernel_size=(3,3)))\n",
        "model.add(Activation('relu'))\n",
        "model.add(MaxPooling2D(pool_size = (2,2)))\n",
        "\n",
        "# Second  convolutional layer\n",
        "model.add(Conv2D(filters=64,kernel_size=(3,3)))\n",
        "model.add(Activation('relu'))\n",
        "model.add(MaxPooling2D(pool_size = (2,2)))\n",
        "\n",
        "# Adding of one fully-connected layer \n",
        "model.add(Flatten())\n",
        "model.add(Dense(128))\n",
        "model.add(Activation('relu'))\n",
        "\n",
        "# single unit and sigmoid activation, which is perfect for a binary classification. \n",
        "\n",
        "model.add(Dense(1))\n",
        "model.add(Activation('sigmoid'))\n",
        "\n",
        "# Use of the binary_crossentropy loss to train our model, of the rmsprop optimizer and the accuracy metrics\n",
        "model.compile(optimizer='rmsprop',\n",
        "              loss='binary_crossentropy',\n",
        "              metrics=['accuracy'])\n",
        "\n",
        "model.fit_generator(train_generator,steps_per_epoch=2000//batch_size,epochs=3,validation_data=valid_generator,validation_steps=800//batch_size)"
      ],
      "execution_count": 0,
      "outputs": [
        {
          "output_type": "stream",
          "text": [
            "Epoch 1/3\n",
            "250/250 [==============================] - 197s 787ms/step - loss: 0.7273 - acc: 0.5870 - val_loss: 0.6375 - val_acc: 0.6488\n",
            "Epoch 2/3\n",
            "250/250 [==============================] - 192s 770ms/step - loss: 0.6242 - acc: 0.6850 - val_loss: 0.6487 - val_acc: 0.6613\n",
            "Epoch 3/3\n",
            "250/250 [==============================] - 191s 765ms/step - loss: 0.4920 - acc: 0.7810 - val_loss: 0.9406 - val_acc: 0.6525\n"
          ],
          "name": "stdout"
        },
        {
          "output_type": "execute_result",
          "data": {
            "text/plain": [
              "<keras.callbacks.History at 0x7f59333f6550>"
            ]
          },
          "metadata": {
            "tags": []
          },
          "execution_count": 21
        }
      ]
    },
    {
      "metadata": {
        "id": "I4AkPCl5MRCi",
        "colab_type": "text"
      },
      "cell_type": "markdown",
      "source": [
        "The previous model gave us an accuracy of 0.78 over the train set and 0.65 over the validation set. I added new layers to enable the model to capt new informations. To train this deeper model, I raised the number of epochs to 5.\n"
      ]
    },
    {
      "metadata": {
        "id": "vs_PbO7iM7-5",
        "colab_type": "code",
        "outputId": "9d860bf6-e281-4766-fda9-54f42efbb40c",
        "colab": {
          "base_uri": "https://localhost:8080/",
          "height": 224
        }
      },
      "cell_type": "code",
      "source": [
        "from keras.models import Sequential\n",
        "from keras.layers import Conv2D, MaxPooling2D\n",
        "from keras.layers import Activation, Dropout, Flatten, Dense\n",
        "\n",
        "model = Sequential()\n",
        "\n",
        "# First convolutional layer\n",
        "\n",
        "model.add(Conv2D(filters=64,input_shape=(150,150,3),kernel_size=(3,3)))\n",
        "model.add(Activation('relu'))\n",
        "model.add(MaxPooling2D(pool_size = (2,2)))\n",
        "\n",
        "# Second  convolutional layer\n",
        "model.add(Conv2D(filters=64,kernel_size=(3,3)))\n",
        "model.add(Activation('relu'))\n",
        "model.add(MaxPooling2D(pool_size = (2,2)))\n",
        "\n",
        "model.add(Conv2D(filters=64,kernel_size=(3,3)))\n",
        "model.add(Activation('relu'))\n",
        "model.add(MaxPooling2D(pool_size = (2,2)))\n",
        "\n",
        "# Adding of one fully-connected layer \n",
        "model.add(Flatten())\n",
        "model.add(Dense(128))\n",
        "model.add(Activation('relu'))\n",
        "\n",
        "model.add(Dense(64))\n",
        "model.add(Activation('relu'))\n",
        "\n",
        "# single unit and sigmoid activation, which is perfect for a binary classification. \n",
        "\n",
        "model.add(Dense(1))\n",
        "model.add(Activation('sigmoid'))\n",
        "\n",
        "# Use of the binary_crossentropy loss to train our model, of the rmsprop optimizer and the accuracy metrics\n",
        "model.compile(optimizer='rmsprop',\n",
        "              loss='binary_crossentropy',\n",
        "              metrics=['accuracy'])\n",
        "\n",
        "model.fit_generator(train_generator,steps_per_epoch=2000//batch_size,epochs=5,validation_data=valid_generator,validation_steps=800//batch_size)"
      ],
      "execution_count": 0,
      "outputs": [
        {
          "output_type": "stream",
          "text": [
            "Epoch 1/5\n",
            "250/250 [==============================] - 189s 757ms/step - loss: 0.7203 - acc: 0.5170 - val_loss: 0.8578 - val_acc: 0.5012\n",
            "Epoch 2/5\n",
            "250/250 [==============================] - 187s 747ms/step - loss: 0.6581 - acc: 0.6255 - val_loss: 0.6366 - val_acc: 0.6250\n",
            "Epoch 3/5\n",
            "250/250 [==============================] - 187s 746ms/step - loss: 0.6159 - acc: 0.6680 - val_loss: 0.5798 - val_acc: 0.6787\n",
            "Epoch 4/5\n",
            "250/250 [==============================] - 183s 733ms/step - loss: 0.5621 - acc: 0.7220 - val_loss: 0.6295 - val_acc: 0.6963\n",
            "Epoch 5/5\n",
            "250/250 [==============================] - 184s 737ms/step - loss: 0.4898 - acc: 0.7655 - val_loss: 0.6583 - val_acc: 0.6863\n"
          ],
          "name": "stdout"
        },
        {
          "output_type": "execute_result",
          "data": {
            "text/plain": [
              "<keras.callbacks.History at 0x7f5935f990b8>"
            ]
          },
          "metadata": {
            "tags": []
          },
          "execution_count": 14
        }
      ]
    },
    {
      "metadata": {
        "id": "OtlVq_i5d1u6",
        "colab_type": "text"
      },
      "cell_type": "markdown",
      "source": [
        "As expected, the performance improved to 68,63% on the validation set, but the score on the validation set is still pretty far for the score on the train test (76,55%). I added Dropout layers to prevent the model from overfitting."
      ]
    },
    {
      "metadata": {
        "id": "OwK8NmjGdlwA",
        "colab_type": "code",
        "outputId": "689af9e0-7441-4470-b85c-493e2f7282e4",
        "colab": {
          "base_uri": "https://localhost:8080/",
          "height": 224
        }
      },
      "cell_type": "code",
      "source": [
        "from keras.models import Sequential\n",
        "from keras.layers import Conv2D, MaxPooling2D\n",
        "from keras.layers import Activation, Dropout, Flatten, Dense\n",
        "\n",
        "model = Sequential()\n",
        "\n",
        "# First convolutional layer\n",
        "\n",
        "model.add(Conv2D(filters=64,input_shape=(150,150,3),kernel_size=(3,3)))\n",
        "model.add(Activation('relu'))\n",
        "model.add(MaxPooling2D(pool_size = (2,2)))\n",
        "\n",
        "# Second  convolutional layer\n",
        "model.add(Conv2D(filters=64,kernel_size=(3,3)))\n",
        "model.add(Activation('relu'))\n",
        "model.add(MaxPooling2D(pool_size = (2,2)))\n",
        "\n",
        "model.add(Conv2D(filters=64,kernel_size=(3,3)))\n",
        "model.add(Activation('relu'))\n",
        "model.add(MaxPooling2D(pool_size = (2,2)))\n",
        "\n",
        "# Adding of one fully-connected layer \n",
        "model.add(Flatten())\n",
        "model.add(Dense(128))\n",
        "model.add(Activation('relu'))\n",
        "model.add(Dropout(rate=0.2))\n",
        "\n",
        "model.add(Dense(64))\n",
        "model.add(Activation('relu'))\n",
        "model.add(Dropout(rate=0.2))\n",
        "\n",
        "# single unit and sigmoid activation, which is perfect for a binary classification. \n",
        "\n",
        "model.add(Dense(1))\n",
        "model.add(Activation('sigmoid'))\n",
        "\n",
        "# Use of the binary_crossentropy loss to train our model, of the rmsprop optimizer and the accuracy metrics\n",
        "model.compile(optimizer='rmsprop',\n",
        "              loss='binary_crossentropy',\n",
        "              metrics=['accuracy'])\n",
        "\n",
        "model.fit_generator(train_generator,steps_per_epoch=2000//batch_size,epochs=5,validation_data=valid_generator,validation_steps=800//batch_size)"
      ],
      "execution_count": 0,
      "outputs": [
        {
          "output_type": "stream",
          "text": [
            "Epoch 1/5\n",
            "250/250 [==============================] - 179s 716ms/step - loss: 0.7231 - acc: 0.5070 - val_loss: 0.6850 - val_acc: 0.4838\n",
            "Epoch 2/5\n",
            "250/250 [==============================] - 178s 712ms/step - loss: 0.6833 - acc: 0.5870 - val_loss: 0.6203 - val_acc: 0.6637\n",
            "Epoch 3/5\n",
            "250/250 [==============================] - 178s 713ms/step - loss: 0.6388 - acc: 0.6500 - val_loss: 0.6012 - val_acc: 0.6725\n",
            "Epoch 4/5\n",
            "250/250 [==============================] - 179s 718ms/step - loss: 0.6002 - acc: 0.6925 - val_loss: 0.8028 - val_acc: 0.6138\n",
            "Epoch 5/5\n",
            "250/250 [==============================] - 177s 707ms/step - loss: 0.5716 - acc: 0.7045 - val_loss: 0.5799 - val_acc: 0.7150\n"
          ],
          "name": "stdout"
        },
        {
          "output_type": "execute_result",
          "data": {
            "text/plain": [
              "<keras.callbacks.History at 0x7f59343b10f0>"
            ]
          },
          "metadata": {
            "tags": []
          },
          "execution_count": 17
        }
      ]
    },
    {
      "metadata": {
        "id": "j29-tq5elopB",
        "colab_type": "text"
      },
      "cell_type": "markdown",
      "source": [
        "We notice that the model is not overfitting anymore, but we have a larger bias on the training set. However the score is better and reach 70,45% on the training set and 71,5% on the validation set."
      ]
    },
    {
      "metadata": {
        "id": "YRQeOGJ3f2jj",
        "colab_type": "text"
      },
      "cell_type": "markdown",
      "source": [
        "Only few training examples are available in the sampleDeep dataset. In order to make the most of these training examples, a current approach is to **augment** them via a number of random transformations, so that our model would never see twice the exact same picture. This augmentation step also helps prevent overfitting and helps the model generalize better.\n"
      ]
    },
    {
      "metadata": {
        "id": "Vy3CyT-Pf2jp",
        "colab_type": "code",
        "outputId": "670f36d1-321a-4601-c52f-0cc6bb07776b",
        "colab": {
          "base_uri": "https://localhost:8080/",
          "height": 51
        }
      },
      "cell_type": "code",
      "source": [
        "# augmentation configuration use for training:\n",
        "train_datagen = ImageDataGenerator(\n",
        "    rescale=1. / 255,\n",
        "    shear_range=0.2,\n",
        "    zoom_range=0.2,\n",
        "    horizontal_flip=True)\n",
        "\n",
        "# augmentation configuration use for testing:\n",
        "# only rescaling\n",
        "test_datagen = ImageDataGenerator(rescale=1. / 255)\n",
        "\n",
        "# fit the generator to your data\n",
        "train_generator = train_datagen.flow_from_directory(\n",
        "    train_data_dir,\n",
        "    target_size=(img_width, img_height),\n",
        "    batch_size=batch_size,\n",
        "    class_mode='binary')\n",
        "\n",
        "valid_generator = test_datagen.flow_from_directory(\n",
        "    validation_data_dir,\n",
        "    target_size=(img_width, img_height),\n",
        "    batch_size=batch_size,\n",
        "    class_mode='binary')\n"
      ],
      "execution_count": 0,
      "outputs": [
        {
          "output_type": "stream",
          "text": [
            "Found 2010 images belonging to 2 classes.\n",
            "Found 800 images belonging to 2 classes.\n"
          ],
          "name": "stdout"
        }
      ]
    },
    {
      "metadata": {
        "id": "N6XTx1CK4s35",
        "colab_type": "code",
        "outputId": "bee20cd2-8d4f-49b4-c6d6-10715e367df6",
        "colab": {
          "base_uri": "https://localhost:8080/",
          "height": 292
        }
      },
      "cell_type": "code",
      "source": [
        "from keras.models import Sequential\n",
        "from keras.layers import Conv2D, MaxPooling2D\n",
        "from keras.layers import Activation, Dropout, Flatten, Dense\n",
        "from keras.optimizers import RMSprop\n",
        "\n",
        "model = Sequential()\n",
        "\n",
        "# First convolutional layer\n",
        "\n",
        "model.add(Conv2D(filters=64,input_shape=(150,150,3),kernel_size=(3,3)))\n",
        "model.add(Activation('relu'))\n",
        "model.add(MaxPooling2D(pool_size = (2,2)))\n",
        "\n",
        "# Second  convolutional layer\n",
        "model.add(Conv2D(filters=64,kernel_size=(3,3)))\n",
        "model.add(Activation('relu'))\n",
        "model.add(MaxPooling2D(pool_size = (2,2)))\n",
        "\n",
        "model.add(Conv2D(filters=64,kernel_size=(3,3)))\n",
        "model.add(Activation('relu'))\n",
        "model.add(MaxPooling2D(pool_size = (2,2)))\n",
        "\n",
        "# Adding of one fully-connected layer \n",
        "model.add(Flatten())\n",
        "model.add(Dense(128))\n",
        "model.add(Activation('relu'))\n",
        "model.add(Dropout(rate=0.2))\n",
        "\n",
        "model.add(Dense(64))\n",
        "model.add(Activation('relu'))\n",
        "model.add(Dropout(rate=0.2))\n",
        "\n",
        "# single unit and sigmoid activation, which is perfect for a binary classification. \n",
        "\n",
        "model.add(Dense(1))\n",
        "model.add(Activation('sigmoid'))\n",
        "# Use of the binary_crossentropy loss to train our model, of the rmsprop optimizer and the accuracy metrics\n",
        "model.compile(optimizer='rmsprop',\n",
        "              loss='binary_crossentropy',\n",
        "              metrics=['accuracy'])\n",
        "\n",
        "model.fit_generator(train_generator,steps_per_epoch=2000//batch_size,epochs=7,validation_data=valid_generator,validation_steps=800//batch_size)"
      ],
      "execution_count": 0,
      "outputs": [
        {
          "output_type": "stream",
          "text": [
            "Epoch 1/7\n",
            "250/250 [==============================] - 182s 729ms/step - loss: 1.2372 - acc: 0.5010 - val_loss: 0.6875 - val_acc: 0.5925\n",
            "Epoch 2/7\n",
            "250/250 [==============================] - 180s 719ms/step - loss: 0.6892 - acc: 0.5545 - val_loss: 0.6319 - val_acc: 0.6100\n",
            "Epoch 3/7\n",
            "250/250 [==============================] - 180s 720ms/step - loss: 0.6586 - acc: 0.6405 - val_loss: 0.6141 - val_acc: 0.6813\n",
            "Epoch 4/7\n",
            "250/250 [==============================] - 181s 724ms/step - loss: 0.6288 - acc: 0.6860 - val_loss: 0.5717 - val_acc: 0.7225\n",
            "Epoch 5/7\n",
            "250/250 [==============================] - 181s 724ms/step - loss: 0.5630 - acc: 0.7120 - val_loss: 0.5749 - val_acc: 0.6913\n",
            "Epoch 6/7\n",
            "250/250 [==============================] - 180s 721ms/step - loss: 0.5493 - acc: 0.7420 - val_loss: 0.6372 - val_acc: 0.7050\n",
            "Epoch 7/7\n",
            "250/250 [==============================] - 181s 725ms/step - loss: 0.4921 - acc: 0.7735 - val_loss: 0.6552 - val_acc: 0.6613\n"
          ],
          "name": "stdout"
        },
        {
          "output_type": "execute_result",
          "data": {
            "text/plain": [
              "<keras.callbacks.History at 0x7f592c7a9e48>"
            ]
          },
          "metadata": {
            "tags": []
          },
          "execution_count": 25
        }
      ]
    },
    {
      "metadata": {
        "id": "43A1fDv-f2js",
        "colab_type": "text"
      },
      "cell_type": "markdown",
      "source": [
        "Once again, our model overfits. To improve our score, we would need to train the model over the whole dataset and we could expect a great improvement since the dataset is much bigger than the sample we used. However, my computing resources aren't sufficient to do it so we'll stay with this score for now."
      ]
    },
    {
      "metadata": {
        "id": "evT6E2PRf2jx",
        "colab_type": "text"
      },
      "cell_type": "markdown",
      "source": [
        "## Use a pretrained Convnet model\n",
        "\n",
        "In fact, what is really slow is training the convolutionnal layers since it has to understand features contained in the image. Moreover, we don't have enough data to train it . Instead, in image classification, it is common to use networks pre-trained on a large dataset (such as ImageNet)  and to use it either as an initialization of as a fixed feature extractor for the task of interest (**transfer learning**). Indeed, these networks have already learned features that are useful for most computer vision problems, and leveraging such features would allow us to reach a better accuracy than any method that would only rely on the available data.\n",
        "\n",
        "Different strategies can be used in transfer learning scenarios :\n",
        "\n",
        "1. The ConvNet, trained on a large image dataset such as Imagenet, is used as a fixed feature extractor. In this case, the pipeline consists in taking the pre-trained ConvNet, removing the last fully connected layer and that by treating the rest of the ConvNet architecture as a fixed feature extractor for the new dataset\n",
        "2. Fine Tuning of the ConvNet. In this case,  the weights of a part of the pretrained network are fine-tuned by continuing the backpropagation. As it as been observed that the first features of a ConvNet contain more generic features (e.g. edge detectors or color blob detectors) that should be useful to many tasks and that later layers become progressively more specific to the details of the classes contained in the original dataset, only a higher portion of the network is fine-tuned.\n",
        "\n",
        "I tried both methods bu the second one was very expensive in resources and didn't show a real improvement compared to the first one, so I decided to keep only the first method in this Notebook\n",
        "\n",
        "### ConvNet as a fixed feature extractor   \n",
        "\n",
        "In particular, we will use the VGG16 architecture which won the 2014 Imagenet competition, and is a very simple model to create and understand. The VGG Imagenet team created both a larger, slower, slightly more accurate model (VGG 19) and a smaller, faster model (VGG 16). We will be using VGG 16 since the much slower performance of VGG19 is generally not worth the very minor improvement in accuracy.\n",
        "\n",
        "In the code below, the strategy will consist in instantiating only the convolutional part of the model (using the *include_top* argument) (see the and in running this model on our own training and validation data once by recording the output in two numpy arrays. Then, I have trained a small fully-connected model on top of the stored features.\n",
        " \n",
        "\n"
      ]
    },
    {
      "metadata": {
        "id": "FaVDMBVmf2jx",
        "colab_type": "code",
        "outputId": "869edf3e-fc9a-4bca-ad7d-95e28d3b3fe9",
        "colab": {
          "base_uri": "https://localhost:8080/",
          "height": 1873
        }
      },
      "cell_type": "code",
      "source": [
        "import numpy as np\n",
        "from keras.preprocessing.image import ImageDataGenerator\n",
        "from keras.models import Sequential\n",
        "from keras.layers import Dropout, Flatten, Dense, Activation\n",
        "from keras import applications\n",
        "\n",
        "\n",
        "# dimensions of our images.\n",
        "img_width, img_height = 150, 150\n",
        "\n",
        "top_model_weights_path = './weigths_models/bottleneck_fc_model.h5'\n",
        "train_data_dir = 'sampleDeep/train'\n",
        "validation_data_dir = 'sampleDeep/valid'\n",
        "nb_train_samples = 2010\n",
        "nb_validation_samples = 800\n",
        "epochs = 50\n",
        "batch_size = 8\n",
        "\n",
        "\n",
        "# Function that instanciates the convolutional part of the VGG16 pre-trained model on Imagenet and that runs it on our training and validation data\n",
        "\n",
        "def save_bottlebeck_features():\n",
        "    datagen = ImageDataGenerator(rescale=1. / 255)\n",
        "\n",
        "    # build and load the VGG16 network without the fully connected layers\n",
        "    vgg = applications.vgg16.VGG16(include_top=False,input_shape=(img_width,img_height,3),classes=2)\n",
        "    # preparation of the training data\n",
        "    generator = datagen.flow_from_directory(\n",
        "        train_data_dir,\n",
        "        target_size=(img_width, img_height),\n",
        "        batch_size=batch_size,\n",
        "        class_mode=None,\n",
        "        shuffle=False)\n",
        "    \n",
        "    print('Prediction 1')\n",
        "    # Generation of the predictions for the input samples from the training data generator and return them as a numpy array that we can saved\n",
        "    bottleneck_features_train = vgg.predict_generator(generator,steps=len(generator))\n",
        "    np.save(open('./weigths_models/bottleneck_features_train.npy', 'wb'),\n",
        "            bottleneck_features_train)\n",
        "\n",
        "    # preparation of the validation data\n",
        "    valid_generator = datagen.flow_from_directory(\n",
        "    validation_data_dir,\n",
        "    target_size=(img_width, img_height),\n",
        "    batch_size=batch_size,\n",
        "    class_mode=None,\n",
        "    shuffle=False\n",
        "    )\n",
        "    print('Prediction 2')\n",
        "    # Generation of the predictions for the input samples from the validation data generator and return them as a numpy array that we can saved\n",
        "    bottleneck_features_validation = vgg.predict_generator(valid_generator,steps=len(valid_generator))\n",
        "    np.save(open('./weigths_models/bottleneck_features_validation.npy', 'wb'),\n",
        "            bottleneck_features_validation)\n",
        "\n",
        "    \n",
        "# Function that trains a small fully-connected model on top of the stored previous features\n",
        "    \n",
        "    \n",
        "def train_top_model():\n",
        "    train_data = np.load(open('./weigths_models/bottleneck_features_train.npy','rb'))\n",
        "    train_labels = np.array(\n",
        "        [0] * (nb_train_samples // 2) + [1] * (nb_train_samples // 2))\n",
        "\n",
        "    validation_data = np.load(open('./weigths_models/bottleneck_features_validation.npy','rb'))\n",
        "    validation_labels = np.array(\n",
        "        [0] * (nb_validation_samples // 2) + [1] * (nb_validation_samples // 2))\n",
        "\n",
        "    # Building of the small fully-connected model\n",
        "    model = Sequential()\n",
        "    \n",
        "    model.add(Flatten())\n",
        "    model.add(Dense(32))\n",
        "    model.add(Activation('relu'))\n",
        "    \n",
        "    model.add(Dense(1,activation='sigmoid'))\n",
        "\n",
        "    # Configuration of the learning process\n",
        "    model.compile(optimizer='rmsprop',\n",
        "                  loss='binary_crossentropy', metrics=['accuracy'])\n",
        "    print('Training')\n",
        "    # Training of the model\n",
        "    model.fit(x=train_data,y=train_labels,validation_data=(validation_data,validation_labels),epochs = epochs)\n",
        "    model.save_weights('./weigths_models/top_layers.h5')\n",
        "\n",
        "save_bottlebeck_features()\n",
        "train_top_model()"
      ],
      "execution_count": 0,
      "outputs": [
        {
          "output_type": "stream",
          "text": [
            "Downloading data from https://github.com/fchollet/deep-learning-models/releases/download/v0.1/vgg16_weights_tf_dim_ordering_tf_kernels_notop.h5\n",
            "58892288/58889256 [==============================] - 1s 0us/step\n",
            "Found 2010 images belonging to 2 classes.\n",
            "Prediction 1\n",
            "Found 800 images belonging to 2 classes.\n",
            "Prediction 2\n",
            "Training\n",
            "Train on 2010 samples, validate on 800 samples\n",
            "Epoch 1/50\n",
            "2010/2010 [==============================] - 4s 2ms/step - loss: 0.5723 - acc: 0.7726 - val_loss: 0.2892 - val_acc: 0.8738\n",
            "Epoch 2/50\n",
            "2010/2010 [==============================] - 1s 263us/step - loss: 0.3155 - acc: 0.8687 - val_loss: 0.3202 - val_acc: 0.8488\n",
            "Epoch 3/50\n",
            "2010/2010 [==============================] - 1s 267us/step - loss: 0.2239 - acc: 0.9090 - val_loss: 0.2707 - val_acc: 0.8750\n",
            "Epoch 4/50\n",
            "2010/2010 [==============================] - 1s 260us/step - loss: 0.1965 - acc: 0.9174 - val_loss: 0.2531 - val_acc: 0.9012\n",
            "Epoch 5/50\n",
            "2010/2010 [==============================] - 1s 264us/step - loss: 0.1443 - acc: 0.9403 - val_loss: 0.2902 - val_acc: 0.8775\n",
            "Epoch 6/50\n",
            "2010/2010 [==============================] - 1s 263us/step - loss: 0.1352 - acc: 0.9428 - val_loss: 0.2734 - val_acc: 0.8850\n",
            "Epoch 7/50\n",
            "2010/2010 [==============================] - 1s 259us/step - loss: 0.1031 - acc: 0.9632 - val_loss: 0.3987 - val_acc: 0.8438\n",
            "Epoch 8/50\n",
            "2010/2010 [==============================] - 1s 288us/step - loss: 0.0854 - acc: 0.9692 - val_loss: 0.3227 - val_acc: 0.8675\n",
            "Epoch 9/50\n",
            "2010/2010 [==============================] - 1s 291us/step - loss: 0.0807 - acc: 0.9657 - val_loss: 0.2931 - val_acc: 0.8862\n",
            "Epoch 10/50\n",
            "2010/2010 [==============================] - 1s 268us/step - loss: 0.0495 - acc: 0.9786 - val_loss: 0.3655 - val_acc: 0.8625\n",
            "Epoch 11/50\n",
            "2010/2010 [==============================] - 1s 268us/step - loss: 0.0474 - acc: 0.9841 - val_loss: 0.3112 - val_acc: 0.8862\n",
            "Epoch 12/50\n",
            "2010/2010 [==============================] - 1s 267us/step - loss: 0.0358 - acc: 0.9886 - val_loss: 0.3219 - val_acc: 0.8912\n",
            "Epoch 13/50\n",
            "2010/2010 [==============================] - 1s 266us/step - loss: 0.0319 - acc: 0.9920 - val_loss: 0.3543 - val_acc: 0.8850\n",
            "Epoch 14/50\n",
            "2010/2010 [==============================] - 1s 255us/step - loss: 0.0194 - acc: 0.9940 - val_loss: 0.5407 - val_acc: 0.8362\n",
            "Epoch 15/50\n",
            "2010/2010 [==============================] - 1s 258us/step - loss: 0.0196 - acc: 0.9950 - val_loss: 0.3816 - val_acc: 0.8862\n",
            "Epoch 16/50\n",
            "2010/2010 [==============================] - 1s 263us/step - loss: 0.0157 - acc: 0.9970 - val_loss: 0.4061 - val_acc: 0.8812\n",
            "Epoch 17/50\n",
            "2010/2010 [==============================] - 1s 262us/step - loss: 0.0174 - acc: 0.9940 - val_loss: 0.4148 - val_acc: 0.8900\n",
            "Epoch 18/50\n",
            "2010/2010 [==============================] - 1s 265us/step - loss: 0.0078 - acc: 0.9970 - val_loss: 0.3984 - val_acc: 0.8912\n",
            "Epoch 19/50\n",
            "2010/2010 [==============================] - 1s 271us/step - loss: 0.0131 - acc: 0.9955 - val_loss: 0.4153 - val_acc: 0.8837\n",
            "Epoch 20/50\n",
            "2010/2010 [==============================] - 1s 269us/step - loss: 0.0134 - acc: 0.9960 - val_loss: 0.4234 - val_acc: 0.8825\n",
            "Epoch 21/50\n",
            "2010/2010 [==============================] - 1s 264us/step - loss: 0.0165 - acc: 0.9945 - val_loss: 0.4616 - val_acc: 0.8788\n",
            "Epoch 22/50\n",
            "2010/2010 [==============================] - 1s 270us/step - loss: 0.0181 - acc: 0.9935 - val_loss: 0.5204 - val_acc: 0.8663\n",
            "Epoch 23/50\n",
            "2010/2010 [==============================] - 1s 258us/step - loss: 8.3201e-04 - acc: 1.0000 - val_loss: 0.5118 - val_acc: 0.8738\n",
            "Epoch 24/50\n",
            "2010/2010 [==============================] - 1s 262us/step - loss: 0.0200 - acc: 0.9935 - val_loss: 0.4727 - val_acc: 0.8825\n",
            "Epoch 25/50\n",
            "2010/2010 [==============================] - 1s 266us/step - loss: 0.0141 - acc: 0.9935 - val_loss: 0.4568 - val_acc: 0.8775\n",
            "Epoch 26/50\n",
            "2010/2010 [==============================] - 1s 264us/step - loss: 4.1710e-04 - acc: 1.0000 - val_loss: 1.1562 - val_acc: 0.8175\n",
            "Epoch 27/50\n",
            "2010/2010 [==============================] - 1s 265us/step - loss: 0.0102 - acc: 0.9975 - val_loss: 0.5014 - val_acc: 0.8825\n",
            "Epoch 28/50\n",
            "2010/2010 [==============================] - 1s 258us/step - loss: 0.0078 - acc: 0.9970 - val_loss: 0.4987 - val_acc: 0.8825\n",
            "Epoch 29/50\n",
            "2010/2010 [==============================] - 1s 262us/step - loss: 0.0102 - acc: 0.9960 - val_loss: 0.4955 - val_acc: 0.8862\n",
            "Epoch 30/50\n",
            "2010/2010 [==============================] - 1s 265us/step - loss: 1.7338e-04 - acc: 1.0000 - val_loss: 0.5199 - val_acc: 0.8800\n",
            "Epoch 31/50\n",
            "2010/2010 [==============================] - 1s 272us/step - loss: 0.0117 - acc: 0.9965 - val_loss: 0.5602 - val_acc: 0.8775\n",
            "Epoch 32/50\n",
            "2010/2010 [==============================] - 1s 265us/step - loss: 0.0034 - acc: 0.9985 - val_loss: 0.5375 - val_acc: 0.8812\n",
            "Epoch 33/50\n",
            "2010/2010 [==============================] - 1s 265us/step - loss: 1.3186e-04 - acc: 1.0000 - val_loss: 0.5572 - val_acc: 0.8788\n",
            "Epoch 34/50\n",
            "2010/2010 [==============================] - 1s 264us/step - loss: 0.0082 - acc: 0.9965 - val_loss: 0.5410 - val_acc: 0.8800\n",
            "Epoch 35/50\n",
            "2010/2010 [==============================] - 1s 275us/step - loss: 8.3534e-05 - acc: 1.0000 - val_loss: 0.5619 - val_acc: 0.8812\n",
            "Epoch 36/50\n",
            "2010/2010 [==============================] - 1s 268us/step - loss: 0.0012 - acc: 0.9995 - val_loss: 0.5972 - val_acc: 0.8850\n",
            "Epoch 37/50\n",
            "2010/2010 [==============================] - 1s 264us/step - loss: 0.0130 - acc: 0.9955 - val_loss: 0.7158 - val_acc: 0.8663\n",
            "Epoch 38/50\n",
            "2010/2010 [==============================] - 1s 268us/step - loss: 7.4132e-05 - acc: 1.0000 - val_loss: 0.6067 - val_acc: 0.8825\n",
            "Epoch 39/50\n",
            "2010/2010 [==============================] - 1s 264us/step - loss: 0.0038 - acc: 0.9985 - val_loss: 0.5807 - val_acc: 0.8812\n",
            "Epoch 40/50\n",
            "2010/2010 [==============================] - 1s 265us/step - loss: 5.8227e-05 - acc: 1.0000 - val_loss: 0.5961 - val_acc: 0.8788\n",
            "Epoch 41/50\n",
            "2010/2010 [==============================] - 1s 264us/step - loss: 0.0066 - acc: 0.9965 - val_loss: 0.6238 - val_acc: 0.8788\n",
            "Epoch 42/50\n",
            "2010/2010 [==============================] - 1s 265us/step - loss: 2.3828e-05 - acc: 1.0000 - val_loss: 0.6216 - val_acc: 0.8700\n",
            "Epoch 43/50\n",
            "2010/2010 [==============================] - 1s 264us/step - loss: 0.0032 - acc: 0.9980 - val_loss: 0.7790 - val_acc: 0.8625\n",
            "Epoch 44/50\n",
            "2010/2010 [==============================] - 1s 264us/step - loss: 2.8121e-05 - acc: 1.0000 - val_loss: 0.6473 - val_acc: 0.8812\n",
            "Epoch 45/50\n",
            "2010/2010 [==============================] - 1s 260us/step - loss: 0.0032 - acc: 0.9990 - val_loss: 1.0344 - val_acc: 0.8462\n",
            "Epoch 46/50\n",
            "2010/2010 [==============================] - 1s 265us/step - loss: 7.5021e-05 - acc: 1.0000 - val_loss: 0.6793 - val_acc: 0.8762\n",
            "Epoch 47/50\n",
            "2010/2010 [==============================] - 1s 262us/step - loss: 9.2626e-06 - acc: 1.0000 - val_loss: 0.6616 - val_acc: 0.8812\n",
            "Epoch 48/50\n",
            "2010/2010 [==============================] - 1s 262us/step - loss: 0.0057 - acc: 0.9990 - val_loss: 0.6714 - val_acc: 0.8812\n",
            "Epoch 49/50\n",
            "2010/2010 [==============================] - 1s 266us/step - loss: 8.2258e-06 - acc: 1.0000 - val_loss: 0.6557 - val_acc: 0.8850\n",
            "Epoch 50/50\n",
            "2010/2010 [==============================] - 1s 263us/step - loss: 0.0020 - acc: 0.9995 - val_loss: 0.6513 - val_acc: 0.8850\n"
          ],
          "name": "stdout"
        }
      ]
    },
    {
      "metadata": {
        "id": "2NCXma7lu_8H",
        "colab_type": "text"
      },
      "cell_type": "markdown",
      "source": [
        "With this simple model, we already obtain a significative improvement with a validation score of 88,5% (train score of 99,6%). It then seems that the model is largely overfitting, we need to add Dropout layers once again."
      ]
    },
    {
      "metadata": {
        "id": "9P3XFFrMIilQ",
        "colab_type": "code",
        "outputId": "638a27bb-7095-4f65-939c-31214b01860d",
        "colab": {
          "base_uri": "https://localhost:8080/",
          "height": 1771
        }
      },
      "cell_type": "code",
      "source": [
        "import numpy as np\n",
        "from keras.preprocessing.image import ImageDataGenerator\n",
        "from keras.models import Sequential\n",
        "from keras.layers import Dropout, Flatten, Dense, Activation\n",
        "from keras import applications\n",
        "\n",
        "\n",
        "# dimensions of our images.\n",
        "img_width, img_height = 150, 150\n",
        "\n",
        "top_model_weights_path = 'bottleneck_fc_model.h5'\n",
        "train_data_dir = 'sampleDeep/train'\n",
        "validation_data_dir = 'sampleDeep/valid'\n",
        "nb_train_samples = 2010\n",
        "nb_validation_samples = 800\n",
        "epochs = 50\n",
        "batch_size = 8\n",
        "    \n",
        "def train_top_model():\n",
        "    train_data = np.load(open('./weigths_models/bottleneck_features_train.npy','rb'))\n",
        "    train_labels = np.array(\n",
        "        [0] * (nb_train_samples // 2) + [1] * (nb_train_samples // 2))\n",
        "\n",
        "    validation_data = np.load(open('./weigths_models/bottleneck_features_validation.npy','rb'))\n",
        "    validation_labels = np.array(\n",
        "        [0] * (nb_validation_samples // 2) + [1] * (nb_validation_samples // 2))\n",
        "\n",
        "    # Building of the small fully-connected model\n",
        "    model = Sequential()\n",
        "    \n",
        "    model.add(Flatten())\n",
        "    model.add(Dense(32))\n",
        "    model.add(Activation('relu'))\n",
        "    model.add(Dropout(rate=0.4))\n",
        "    \n",
        "    model.add(Dense(64))\n",
        "    model.add(Activation('relu'))\n",
        "    \n",
        "    model.add(Dense(32))\n",
        "    model.add(Activation('relu'))\n",
        "    model.add(Dropout(rate=0.4))\n",
        "\n",
        "    model.add(Dense(1,activation='sigmoid'))\n",
        "\n",
        "    # Configuration of the learning process\n",
        "    model.compile(optimizer='rmsprop',\n",
        "                  loss='binary_crossentropy', metrics=['accuracy'])\n",
        "    print('Training')\n",
        "    # Training of the model\n",
        "    model.fit(x=train_data,y=train_labels,validation_data=(validation_data,validation_labels),epochs = epochs)\n",
        "    model.save_weights('./weigths_models/top_layers.h5')\n",
        "\n",
        "train_top_model()"
      ],
      "execution_count": 0,
      "outputs": [
        {
          "output_type": "stream",
          "text": [
            "Training\n",
            "Train on 2010 samples, validate on 800 samples\n",
            "Epoch 1/50\n",
            "2010/2010 [==============================] - 8s 4ms/step - loss: 0.6138 - acc: 0.6632 - val_loss: 0.4325 - val_acc: 0.8113\n",
            "Epoch 2/50\n",
            "2010/2010 [==============================] - 1s 273us/step - loss: 0.4448 - acc: 0.8179 - val_loss: 0.3198 - val_acc: 0.8550\n",
            "Epoch 3/50\n",
            "2010/2010 [==============================] - 1s 270us/step - loss: 0.3546 - acc: 0.8607 - val_loss: 0.2705 - val_acc: 0.9000\n",
            "Epoch 4/50\n",
            "2010/2010 [==============================] - 1s 276us/step - loss: 0.3183 - acc: 0.8682 - val_loss: 0.2949 - val_acc: 0.8562\n",
            "Epoch 5/50\n",
            "2010/2010 [==============================] - 1s 270us/step - loss: 0.2753 - acc: 0.8960 - val_loss: 0.3269 - val_acc: 0.8362\n",
            "Epoch 6/50\n",
            "2010/2010 [==============================] - 1s 292us/step - loss: 0.2566 - acc: 0.9015 - val_loss: 0.2592 - val_acc: 0.9062\n",
            "Epoch 7/50\n",
            "2010/2010 [==============================] - 1s 276us/step - loss: 0.2382 - acc: 0.9144 - val_loss: 0.2732 - val_acc: 0.8738\n",
            "Epoch 8/50\n",
            "2010/2010 [==============================] - 1s 276us/step - loss: 0.2166 - acc: 0.9119 - val_loss: 0.3259 - val_acc: 0.8788\n",
            "Epoch 9/50\n",
            "2010/2010 [==============================] - 1s 283us/step - loss: 0.1969 - acc: 0.9219 - val_loss: 0.3048 - val_acc: 0.8925\n",
            "Epoch 10/50\n",
            "2010/2010 [==============================] - 1s 281us/step - loss: 0.1889 - acc: 0.9313 - val_loss: 0.3300 - val_acc: 0.8738\n",
            "Epoch 11/50\n",
            "2010/2010 [==============================] - 1s 285us/step - loss: 0.1793 - acc: 0.9338 - val_loss: 0.3072 - val_acc: 0.8825\n",
            "Epoch 12/50\n",
            "2010/2010 [==============================] - 1s 289us/step - loss: 0.1699 - acc: 0.9413 - val_loss: 0.3176 - val_acc: 0.9025\n",
            "Epoch 13/50\n",
            "2010/2010 [==============================] - 1s 278us/step - loss: 0.1773 - acc: 0.9378 - val_loss: 0.2950 - val_acc: 0.8750\n",
            "Epoch 14/50\n",
            "2010/2010 [==============================] - 1s 276us/step - loss: 0.1817 - acc: 0.9343 - val_loss: 0.3452 - val_acc: 0.8575\n",
            "Epoch 15/50\n",
            "2010/2010 [==============================] - 1s 279us/step - loss: 0.1718 - acc: 0.9393 - val_loss: 0.3668 - val_acc: 0.8900\n",
            "Epoch 16/50\n",
            "2010/2010 [==============================] - 1s 280us/step - loss: 0.1433 - acc: 0.9498 - val_loss: 0.4416 - val_acc: 0.8825\n",
            "Epoch 17/50\n",
            "2010/2010 [==============================] - 1s 271us/step - loss: 0.1487 - acc: 0.9507 - val_loss: 0.3784 - val_acc: 0.8938\n",
            "Epoch 18/50\n",
            "2010/2010 [==============================] - 1s 285us/step - loss: 0.1260 - acc: 0.9622 - val_loss: 0.4094 - val_acc: 0.9000\n",
            "Epoch 19/50\n",
            "2010/2010 [==============================] - 1s 280us/step - loss: 0.1514 - acc: 0.9502 - val_loss: 0.3822 - val_acc: 0.8750\n",
            "Epoch 20/50\n",
            "2010/2010 [==============================] - 1s 277us/step - loss: 0.1278 - acc: 0.9587 - val_loss: 0.3781 - val_acc: 0.8875\n",
            "Epoch 21/50\n",
            "2010/2010 [==============================] - 1s 285us/step - loss: 0.1353 - acc: 0.9547 - val_loss: 0.4372 - val_acc: 0.8762\n",
            "Epoch 22/50\n",
            "2010/2010 [==============================] - 1s 277us/step - loss: 0.1242 - acc: 0.9622 - val_loss: 0.4041 - val_acc: 0.8950\n",
            "Epoch 23/50\n",
            "2010/2010 [==============================] - 1s 273us/step - loss: 0.1201 - acc: 0.9597 - val_loss: 0.4271 - val_acc: 0.9012\n",
            "Epoch 24/50\n",
            "2010/2010 [==============================] - 1s 296us/step - loss: 0.1309 - acc: 0.9587 - val_loss: 0.4280 - val_acc: 0.8962\n",
            "Epoch 25/50\n",
            "2010/2010 [==============================] - 1s 285us/step - loss: 0.1345 - acc: 0.9562 - val_loss: 0.4347 - val_acc: 0.8788\n",
            "Epoch 26/50\n",
            "2010/2010 [==============================] - 1s 284us/step - loss: 0.1277 - acc: 0.9602 - val_loss: 0.3986 - val_acc: 0.8950\n",
            "Epoch 27/50\n",
            "2010/2010 [==============================] - 1s 279us/step - loss: 0.1226 - acc: 0.9667 - val_loss: 0.5120 - val_acc: 0.9012\n",
            "Epoch 28/50\n",
            "2010/2010 [==============================] - 1s 273us/step - loss: 0.1181 - acc: 0.9632 - val_loss: 0.4511 - val_acc: 0.8712\n",
            "Epoch 29/50\n",
            "2010/2010 [==============================] - 1s 273us/step - loss: 0.1044 - acc: 0.9716 - val_loss: 0.4532 - val_acc: 0.8888\n",
            "Epoch 30/50\n",
            "2010/2010 [==============================] - 1s 274us/step - loss: 0.1048 - acc: 0.9667 - val_loss: 0.5057 - val_acc: 0.8812\n",
            "Epoch 31/50\n",
            "2010/2010 [==============================] - 1s 286us/step - loss: 0.1222 - acc: 0.9692 - val_loss: 0.5075 - val_acc: 0.8850\n",
            "Epoch 32/50\n",
            "2010/2010 [==============================] - 1s 295us/step - loss: 0.1192 - acc: 0.9632 - val_loss: 0.5061 - val_acc: 0.8900\n",
            "Epoch 33/50\n",
            "2010/2010 [==============================] - 1s 279us/step - loss: 0.1087 - acc: 0.9706 - val_loss: 0.5299 - val_acc: 0.9012\n",
            "Epoch 34/50\n",
            "2010/2010 [==============================] - 1s 277us/step - loss: 0.1086 - acc: 0.9682 - val_loss: 0.4835 - val_acc: 0.9038\n",
            "Epoch 35/50\n",
            "2010/2010 [==============================] - 1s 295us/step - loss: 0.1104 - acc: 0.9716 - val_loss: 0.5106 - val_acc: 0.9000\n",
            "Epoch 36/50\n",
            "2010/2010 [==============================] - 1s 275us/step - loss: 0.0989 - acc: 0.9731 - val_loss: 0.5415 - val_acc: 0.8900\n",
            "Epoch 37/50\n",
            "2010/2010 [==============================] - 1s 271us/step - loss: 0.0874 - acc: 0.9736 - val_loss: 0.5974 - val_acc: 0.8912\n",
            "Epoch 38/50\n",
            "2010/2010 [==============================] - 1s 274us/step - loss: 0.1201 - acc: 0.9677 - val_loss: 0.5251 - val_acc: 0.8862\n",
            "Epoch 39/50\n",
            "2010/2010 [==============================] - 1s 275us/step - loss: 0.1108 - acc: 0.9697 - val_loss: 0.5216 - val_acc: 0.8900\n",
            "Epoch 40/50\n",
            "2010/2010 [==============================] - 1s 272us/step - loss: 0.1058 - acc: 0.9726 - val_loss: 0.5542 - val_acc: 0.8912\n",
            "Epoch 41/50\n",
            "2010/2010 [==============================] - 1s 279us/step - loss: 0.1004 - acc: 0.9731 - val_loss: 0.5506 - val_acc: 0.8925\n",
            "Epoch 42/50\n",
            "2010/2010 [==============================] - 1s 278us/step - loss: 0.0821 - acc: 0.9781 - val_loss: 0.5685 - val_acc: 0.8862\n",
            "Epoch 43/50\n",
            "2010/2010 [==============================] - 1s 285us/step - loss: 0.0962 - acc: 0.9766 - val_loss: 0.5742 - val_acc: 0.8875\n",
            "Epoch 44/50\n",
            "2010/2010 [==============================] - 1s 288us/step - loss: 0.0913 - acc: 0.9756 - val_loss: 0.6854 - val_acc: 0.8775\n",
            "Epoch 45/50\n",
            "2010/2010 [==============================] - 1s 293us/step - loss: 0.0998 - acc: 0.9687 - val_loss: 0.6270 - val_acc: 0.8837\n",
            "Epoch 46/50\n",
            "2010/2010 [==============================] - 1s 298us/step - loss: 0.0866 - acc: 0.9771 - val_loss: 0.5589 - val_acc: 0.8888\n",
            "Epoch 47/50\n",
            "2010/2010 [==============================] - 1s 299us/step - loss: 0.1020 - acc: 0.9751 - val_loss: 0.6755 - val_acc: 0.8925\n",
            "Epoch 48/50\n",
            "2010/2010 [==============================] - 1s 286us/step - loss: 0.1011 - acc: 0.9721 - val_loss: 0.6304 - val_acc: 0.8938\n",
            "Epoch 49/50\n",
            "2010/2010 [==============================] - 1s 296us/step - loss: 0.0898 - acc: 0.9791 - val_loss: 0.7872 - val_acc: 0.8650\n",
            "Epoch 50/50\n",
            "2010/2010 [==============================] - 1s 316us/step - loss: 0.0781 - acc: 0.9781 - val_loss: 0.7161 - val_acc: 0.8925\n"
          ],
          "name": "stdout"
        }
      ]
    },
    {
      "metadata": {
        "id": "RuF3v01IKgYq",
        "colab_type": "text"
      },
      "cell_type": "markdown",
      "source": [
        "The new score is 89,25%, and we see that in average there is a small improvement compared to the previous model.\n"
      ]
    },
    {
      "metadata": {
        "id": "K2pTGX3b7sUT",
        "colab_type": "text"
      },
      "cell_type": "markdown",
      "source": [
        "I tried to apply the method to the whole dataset but my computing resources aren't sufficient. I expect it would have improved a lot the score since the model would have had much more data to learn from.\n",
        "\n"
      ]
    }
  ]
}